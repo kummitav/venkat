{
 "cells": [
  {
   "cell_type": "code",
   "execution_count": 2,
   "metadata": {
    "collapsed": false
   },
   "outputs": [
    {
     "name": "stdout",
     "output_type": "stream",
     "text": [
      "Program started\n",
      "1.windows\n",
      "2.linux\n",
      "3.mac\n",
      "4.quit\n",
      "select the OS...: 1\n",
      "Windows is selected\n",
      "1.windows\n",
      "2.linux\n",
      "3.mac\n",
      "4.quit\n",
      "select the OS...: 2\n",
      "Linux is selected\n",
      "1.windows\n",
      "2.linux\n",
      "3.mac\n",
      "4.quit\n",
      "select the OS...: 3\n",
      "mac is selected\n",
      "1.windows\n",
      "2.linux\n",
      "3.mac\n",
      "4.quit\n",
      "select the OS...: 4\n",
      "Program halted by user\n"
     ]
    }
   ],
   "source": [
    "#Show the below menu to the user until and until user select quit and display corresponding os message\n",
    "print (\"Program started\")\n",
    "while True:\n",
    "    print (\"1.windows\\n2.linux\\n3.mac\\n4.quit\")\n",
    "    opt = raw_input(\"select the OS...: \")\n",
    "    if opt == \"1\":\n",
    "        print (\"Windows is selected\")\n",
    "    if opt == \"2\":\n",
    "        print (\"Linux is selected\")\n",
    "    if opt == \"3\":\n",
    "        print (\"mac is selected\")\n",
    "    if opt == \"4\":\n",
    "        print (\"Program halted by user\")\n",
    "        break\n",
    "        "
   ]
  }
 ],
 "metadata": {
  "kernelspec": {
   "display_name": "Python 2",
   "language": "python",
   "name": "python2"
  },
  "language_info": {
   "codemirror_mode": {
    "name": "ipython",
    "version": 2
   },
   "file_extension": ".py",
   "mimetype": "text/x-python",
   "name": "python",
   "nbconvert_exporter": "python",
   "pygments_lexer": "ipython2",
   "version": "2.7.13"
  }
 },
 "nbformat": 4,
 "nbformat_minor": 2
}
