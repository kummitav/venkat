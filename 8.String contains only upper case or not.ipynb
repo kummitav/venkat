{
 "cells": [
  {
   "cell_type": "code",
   "execution_count": 2,
   "metadata": {
    "collapsed": false
   },
   "outputs": [
    {
     "name": "stdout",
     "output_type": "stream",
     "text": [
      "Enter the string..:Venaktredy4a5vr\n",
      "string does not contain only upper case letters\n"
     ]
    }
   ],
   "source": [
    "#Stirng contains only upper case or not\n",
    "string = raw_input(\"Enter the string..:\")\n",
    "if string.isupper():\n",
    "    print (\"string conatains only upper case letters\")\n",
    "else:\n",
    "    print (\"string does not contain only upper case letters\")\n",
    "    "
   ]
  }
 ],
 "metadata": {
  "kernelspec": {
   "display_name": "Python 2",
   "language": "python",
   "name": "python2"
  },
  "language_info": {
   "codemirror_mode": {
    "name": "ipython",
    "version": 2
   },
   "file_extension": ".py",
   "mimetype": "text/x-python",
   "name": "python",
   "nbconvert_exporter": "python",
   "pygments_lexer": "ipython2",
   "version": "2.7.13"
  }
 },
 "nbformat": 4,
 "nbformat_minor": 2
}
