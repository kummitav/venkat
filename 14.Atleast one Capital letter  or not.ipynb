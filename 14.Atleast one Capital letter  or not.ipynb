{
 "cells": [
  {
   "cell_type": "code",
   "execution_count": 2,
   "metadata": {
    "collapsed": false
   },
   "outputs": [
    {
     "name": "stdout",
     "output_type": "stream",
     "text": [
      "Enter a value....: dskfja;lsdfj\n",
      "str1 does not contain a Upper case\n"
     ]
    }
   ],
   "source": [
    "#A string contains one Capital letter or not?\n",
    "str1 = raw_input(\"Enter a value....: \")\n",
    "flag=False\n",
    "for i in str1:\n",
    "    if i.isupper():\n",
    "        flag=True\n",
    "if flag:\n",
    "    print \"str1 contains a Upper case\"\n",
    "else:\n",
    "    print \"str1 does not contain a Upper case\""
   ]
  }
 ],
 "metadata": {
  "kernelspec": {
   "display_name": "Python 2",
   "language": "python",
   "name": "python2"
  },
  "language_info": {
   "codemirror_mode": {
    "name": "ipython",
    "version": 2
   },
   "file_extension": ".py",
   "mimetype": "text/x-python",
   "name": "python",
   "nbconvert_exporter": "python",
   "pygments_lexer": "ipython2",
   "version": "2.7.13"
  }
 },
 "nbformat": 4,
 "nbformat_minor": 2
}
