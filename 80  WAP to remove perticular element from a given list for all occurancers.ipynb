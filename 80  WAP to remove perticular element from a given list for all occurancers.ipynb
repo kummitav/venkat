{
 "cells": [
  {
   "cell_type": "code",
   "execution_count": 1,
   "metadata": {
    "collapsed": false
   },
   "outputs": [
    {
     "name": "stdout",
     "output_type": "stream",
     "text": [
      "[1, 3, 4, 1, 3, 4, 1, 3, 4]\n"
     ]
    }
   ],
   "source": [
    "#80  WAP to remove perticular element from a given list for all occurancers\n",
    "l=[1,2,3,4,1,2,3,4,1,2,3,4]\n",
    "def fun1(l,i):\n",
    "    while i in l:\n",
    "        l.remove(i)\n",
    "fun1(l,2)\n",
    "print l\n"
   ]
  }
 ],
 "metadata": {
  "kernelspec": {
   "display_name": "Python 2",
   "language": "python",
   "name": "python2"
  },
  "language_info": {
   "codemirror_mode": {
    "name": "ipython",
    "version": 2
   },
   "file_extension": ".py",
   "mimetype": "text/x-python",
   "name": "python",
   "nbconvert_exporter": "python",
   "pygments_lexer": "ipython2",
   "version": "2.7.13"
  }
 },
 "nbformat": 4,
 "nbformat_minor": 2
}
