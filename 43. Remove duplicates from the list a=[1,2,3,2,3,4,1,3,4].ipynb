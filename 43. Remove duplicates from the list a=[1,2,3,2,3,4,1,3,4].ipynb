{
 "cells": [
  {
   "cell_type": "code",
   "execution_count": 7,
   "metadata": {
    "collapsed": false
   },
   "outputs": [
    {
     "name": "stdout",
     "output_type": "stream",
     "text": [
      "[2, 2, 1, 3, 4]\n"
     ]
    }
   ],
   "source": [
    "#43. Remove duplicates from the list: a=[1,2,3,2,3,4,1,3,4]\n",
    "a=[1,2,3,2,3,4,1,3,4]\n",
    "for i in a:\n",
    "    if a.count(i)>1:\n",
    "        a.remove(i)\n",
    "print a"
   ]
  }
 ],
 "metadata": {
  "kernelspec": {
   "display_name": "Python 2",
   "language": "python",
   "name": "python2"
  },
  "language_info": {
   "codemirror_mode": {
    "name": "ipython",
    "version": 2
   },
   "file_extension": ".py",
   "mimetype": "text/x-python",
   "name": "python",
   "nbconvert_exporter": "python",
   "pygments_lexer": "ipython2",
   "version": "2.7.13"
  }
 },
 "nbformat": 4,
 "nbformat_minor": 2
}
