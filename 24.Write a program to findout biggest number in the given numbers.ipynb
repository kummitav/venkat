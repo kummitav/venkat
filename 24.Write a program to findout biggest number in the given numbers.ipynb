{
 "cells": [
  {
   "cell_type": "code",
   "execution_count": 1,
   "metadata": {
    "collapsed": false
   },
   "outputs": [
    {
     "name": "stdout",
     "output_type": "stream",
     "text": [
      "876453\n"
     ]
    }
   ],
   "source": [
    "#24.Write a program to findout biggest number in the given numbers\n",
    "def max(a):\n",
    "    max= a[0]       \n",
    "    for i in a :       \n",
    "        if i > max: \n",
    "            max = i \n",
    "    return max         \n",
    "l=[98,975,653221,876453]\n",
    "print max(l)\n"
   ]
  }
 ],
 "metadata": {
  "kernelspec": {
   "display_name": "Python 2",
   "language": "python",
   "name": "python2"
  },
  "language_info": {
   "codemirror_mode": {
    "name": "ipython",
    "version": 2
   },
   "file_extension": ".py",
   "mimetype": "text/x-python",
   "name": "python",
   "nbconvert_exporter": "python",
   "pygments_lexer": "ipython2",
   "version": "2.7.13"
  }
 },
 "nbformat": 4,
 "nbformat_minor": 2
}
