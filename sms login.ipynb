{
 "cells": [
  {
   "cell_type": "code",
   "execution_count": null,
   "metadata": {
    "collapsed": true
   },
   "outputs": [],
   "source": [
    "import paramiko\n",
    "ip=\"10.228.69.14\"\n",
    "port=22\n",
    "username=\"service\"\n",
    "password=\"Mi@Dim7T\"\n",
    "cmd=\"ls\"\n",
    "ssh=paramiko.SSHClient()\n",
    "ssh.set_missing_host_key_policy(paramiko.AutoAddPolicy())\n",
    "ssh.connect(ip,port,username,password)\n",
    "#paramiko.util.log_to_file(\"filename.log\")\n",
    "\n",
    "\n",
    "stdin,stdout,stderr = ssh.exec_command(cmd)\n",
    "outlines=stdout.readlines()\n",
    "result=''.join(outlines)\n",
    "print(result)\n"
   ]
  },
  {
   "cell_type": "code",
   "execution_count": null,
   "metadata": {
    "collapsed": true
   },
   "outputs": [],
   "source": [
    "import paramiko\n",
    "ip=\"10.228.69.14\"\n",
    "port=22\n",
    "username=\"service\"\n",
    "password=\"Mi@Dim7T\"\n",
    "cmd=\"pwd\"\n",
    "ssh=paramiko.SSHClient()\n",
    "ssh.set_missing_host_key_policy(paramiko.AutoAddPolicy())\n",
    "ssh.connect(ip,port,username,password)\n",
    "#paramiko.util.log_to_file(\"filename.log\")\n",
    "\n",
    "\n",
    "stdin,stdout,stderr = ssh.exec_command(cmd)\n",
    "outlines=stdout.read()\n",
    "result=''.join(outlines)\n",
    "print(result)"
   ]
  },
  {
   "cell_type": "code",
   "execution_count": null,
   "metadata": {
    "collapsed": true
   },
   "outputs": [],
   "source": []
  },
  {
   "cell_type": "code",
   "execution_count": null,
   "metadata": {
    "collapsed": true
   },
   "outputs": [],
   "source": [
    "import paramiko\n",
    "ip=\"10.228.69.14\"\n",
    "port=22\n",
    "username=\"service\"\n",
    "password=\"Mi@Dim7T\"\n",
    "cmd=\"pwd\"\n",
    "ssh=paramiko.SSHClient()\n",
    "ssh.set_missing_host_key_policy(paramiko.AutoAddPolicy())\n",
    "ssh.connect(ip,port,username,password)\n",
    "#paramiko.util.log_to_file(\"filename.log\")\n",
    "\n",
    "\n",
    "stdin,stdout,stderr = ssh.exec_command(cmd)\n",
    "outlines=stdout.read()\n",
    "result=''.join(outlines)\n",
    "print(result)"
   ]
  },
  {
   "cell_type": "code",
   "execution_count": null,
   "metadata": {
    "collapsed": true
   },
   "outputs": [],
   "source": [
    "import paramiko\n",
    "ip=\"10.228.69.14\"\n",
    "port=22\n",
    "username=\"service\"\n",
    "password=\"Mi@Dim7T\"\n",
    "cmd=\"pwd\"\n",
    "ssh=paramiko.SSHClient()\n",
    "ssh.set_missing_host_key_policy(paramiko.AutoAddPolicy())\n",
    "ssh.connect(ip,port,username,password)\n",
    "#paramiko.util.log_to_file(\"filename.log\")\n",
    "stdin,stdout,stderr = ssh.exec_command(cmd)\n",
    "outlines=stdout.read()\n",
    "result=''.join(outlines)\n",
    "print(result)"
   ]
  },
  {
   "cell_type": "code",
   "execution_count": null,
   "metadata": {
    "collapsed": true
   },
   "outputs": [],
   "source": []
  }
 ],
 "metadata": {
  "kernelspec": {
   "display_name": "Python 2",
   "language": "python",
   "name": "python2"
  },
  "language_info": {
   "codemirror_mode": {
    "name": "ipython",
    "version": 2
   },
   "file_extension": ".py",
   "mimetype": "text/x-python",
   "name": "python",
   "nbconvert_exporter": "python",
   "pygments_lexer": "ipython2",
   "version": "2.7.13"
  }
 },
 "nbformat": 4,
 "nbformat_minor": 2
}
