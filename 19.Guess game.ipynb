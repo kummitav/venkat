{
 "cells": [
  {
   "cell_type": "code",
   "execution_count": null,
   "metadata": {
    "collapsed": true
   },
   "outputs": [],
   "source": []
  },
  {
   "cell_type": "code",
   "execution_count": 1,
   "metadata": {
    "collapsed": false
   },
   "outputs": [
    {
     "name": "stdout",
     "output_type": "stream",
     "text": [
      "Hello! what is your name?\n",
      "\n",
      "Name is......: varma\n",
      "Well, varma, I am thinking of a number between 1 to 20.\n",
      "Take a guess.\n",
      "3\n",
      "your guess is too high\n",
      "Take a guess.\n",
      "1\n",
      "your guess is too low\n",
      "Take a guess.\n",
      "2\n",
      "Great job, varma , you guessed my number in 3 guesses!\n"
     ]
    }
   ],
   "source": [
    "import random\n",
    "Guessvalue = 0\n",
    "print (\"Hello! what is your name?\")\n",
    "Myname = raw_input(\"\\nName is......: \")\n",
    "number = random.randint(0,20)\n",
    "print (\"Well, \" + Myname + \", I am thinking of a number between 1 to 20.\")\n",
    "while Guessvalue < 6:\n",
    "    print(\"Take a guess.\")\n",
    "    guess = input()\n",
    "    guess = int(guess)\n",
    "    Guessvalue = Guessvalue+1\n",
    "\n",
    "    if guess < number:\n",
    "        print ('your guess is too low')\n",
    "    if guess > number:\n",
    "        print ('your guess is too high')\n",
    "    if guess == number:\n",
    "        break\n",
    "if guess == number:\n",
    "    Guessvalue = str(Guessvalue)\n",
    "    print ('Great job, ' + Myname + ' , you guessed my number in ' + Guessvalue + ' guesses!')\n",
    "if guess != number:\n",
    "    number = str(number)\n",
    "    print ('Nope, the number i was thinking of ' + number)\n",
    "        \n"
   ]
  }
 ],
 "metadata": {
  "kernelspec": {
   "display_name": "Python 2",
   "language": "python",
   "name": "python2"
  },
  "language_info": {
   "codemirror_mode": {
    "name": "ipython",
    "version": 2
   },
   "file_extension": ".py",
   "mimetype": "text/x-python",
   "name": "python",
   "nbconvert_exporter": "python",
   "pygments_lexer": "ipython2",
   "version": "2.7.13"
  }
 },
 "nbformat": 4,
 "nbformat_minor": 2
}
