{
 "cells": [
  {
   "cell_type": "code",
   "execution_count": 5,
   "metadata": {
    "collapsed": false
   },
   "outputs": [
    {
     "name": "stdout",
     "output_type": "stream",
     "text": [
      "Enter a number...: 23\n",
      "Enter a number...: 465\n",
      "465.0 b1 vlue is big\n"
     ]
    }
   ],
   "source": [
    "#23. Write a program to findout big of two numbers\n",
    "a1 = float(input(\"Enter a number...: \"))\n",
    "b1 = float(input(\"Enter a number...: \"))\n",
    "if a1 == b1:\n",
    "    print (\"Both values are equal\")\n",
    "elif a1 > b1:\n",
    "    print a1, \"a1 value is big\"\n",
    "elif a1 < b1:\n",
    "    print b1 ,\"b1 vlue is big\"\n"
   ]
  }
 ],
 "metadata": {
  "kernelspec": {
   "display_name": "Python 2",
   "language": "python",
   "name": "python2"
  },
  "language_info": {
   "codemirror_mode": {
    "name": "ipython",
    "version": 2
   },
   "file_extension": ".py",
   "mimetype": "text/x-python",
   "name": "python",
   "nbconvert_exporter": "python",
   "pygments_lexer": "ipython2",
   "version": "2.7.13"
  }
 },
 "nbformat": 4,
 "nbformat_minor": 2
}
