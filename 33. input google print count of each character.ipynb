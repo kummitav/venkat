{
 "cells": [
  {
   "cell_type": "code",
   "execution_count": 1,
   "metadata": {
    "collapsed": false
   },
   "outputs": [
    {
     "name": "stdout",
     "output_type": "stream",
     "text": [
      "Enter a string:venkat\n",
      "{'a': 1, 'e': 1, 'k': 1, 'n': 1, 't': 1, 'v': 1}\n"
     ]
    }
   ],
   "source": [
    "#33. input: \"google\" print count of each character\n",
    "a=raw_input(\"Enter a string:\")\n",
    "d = {}\n",
    "for i in a:\n",
    "    if i in d.keys():\n",
    "        d[i]+=1\n",
    "    else:\n",
    "        d[i]=1\n",
    "print d\n",
    "\n"
   ]
  }
 ],
 "metadata": {
  "kernelspec": {
   "display_name": "Python 2",
   "language": "python",
   "name": "python2"
  },
  "language_info": {
   "codemirror_mode": {
    "name": "ipython",
    "version": 2
   },
   "file_extension": ".py",
   "mimetype": "text/x-python",
   "name": "python",
   "nbconvert_exporter": "python",
   "pygments_lexer": "ipython2",
   "version": "2.7.13"
  }
 },
 "nbformat": 4,
 "nbformat_minor": 2
}
