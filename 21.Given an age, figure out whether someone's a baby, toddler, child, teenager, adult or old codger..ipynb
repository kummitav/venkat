{
 "cells": [
  {
   "cell_type": "code",
   "execution_count": 3,
   "metadata": {
    "collapsed": false
   },
   "outputs": [
    {
     "name": "stdout",
     "output_type": "stream",
     "text": [
      "Enter age in years:0.9\n",
      "A Baby\n",
      "Bye bye.....:)\n"
     ]
    }
   ],
   "source": [
    "#21. Given an age, figure out whether someone's a baby, toddler, child, teenager, adult or old codger.\n",
    "age=float(input(\"Enter age in years:\"))\n",
    "while True:\n",
    "    if age <= 1:\n",
    "        print \"A Baby\"\n",
    "        break\n",
    "    elif age in range(2,4):\n",
    "        print \"A toddler\"\n",
    "        break\n",
    "    elif age in range(5,12):\n",
    "        print \"A child\"\n",
    "        break\n",
    "    elif age in range(13,18):\n",
    "        print \"A teenager\"\n",
    "        break\n",
    "    elif age in range(19,50):\n",
    "        print \"An Adult\"\n",
    "        break\n",
    "    elif age in range(51,100):\n",
    "        print \"An Old codger\"\n",
    "        break\n",
    "print (\"Bye bye.....:)\")"
   ]
  }
 ],
 "metadata": {
  "kernelspec": {
   "display_name": "Python 2",
   "language": "python",
   "name": "python2"
  },
  "language_info": {
   "codemirror_mode": {
    "name": "ipython",
    "version": 2
   },
   "file_extension": ".py",
   "mimetype": "text/x-python",
   "name": "python",
   "nbconvert_exporter": "python",
   "pygments_lexer": "ipython2",
   "version": "2.7.13"
  }
 },
 "nbformat": 4,
 "nbformat_minor": 2
}
