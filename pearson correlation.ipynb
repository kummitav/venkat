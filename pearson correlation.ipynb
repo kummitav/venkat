{
 "cells": [
  {
   "cell_type": "code",
   "execution_count": 15,
   "metadata": {
    "collapsed": false
   },
   "outputs": [
    {
     "name": "stdout",
     "output_type": "stream",
     "text": [
      "0.866025403784\n"
     ]
    }
   ],
   "source": [
    "from math import sqrt\n",
    "\n",
    "def pearcore(x,y):\n",
    "\n",
    "    x_sum1=(sum(x))\n",
    "\n",
    "    y_sum1=(sum(y))\n",
    "\n",
    "    x_sq_sum1=sum([ i*i for i in x ])\n",
    "\n",
    "    y_sq_sum1=sum([ j*j for j in y ])\n",
    "\n",
    "    sum_XY=sum([i*j for i,j in zip(x,y)])\n",
    "\n",
    "    n=len(x)\n",
    "\n",
    "    Results = (sum_XY - ((x_sum1 * y_sum1)/n))/( sqrt((x_sq_sum1 - (x_sum1*x_sum1) / n) * (y_sq_sum1 - (y_sum1*y_sum1)/n)))\n",
    "\n",
    "    return Results\n",
    "\n",
    "print pearcore([1,3,4,4],[2,5,5,8])"
   ]
  }
 ],
 "metadata": {
  "kernelspec": {
   "display_name": "Python 2",
   "language": "python",
   "name": "python2"
  },
  "language_info": {
   "codemirror_mode": {
    "name": "ipython",
    "version": 2
   },
   "file_extension": ".py",
   "mimetype": "text/x-python",
   "name": "python",
   "nbconvert_exporter": "python",
   "pygments_lexer": "ipython2",
   "version": "2.7.13"
  }
 },
 "nbformat": 4,
 "nbformat_minor": 2
}
