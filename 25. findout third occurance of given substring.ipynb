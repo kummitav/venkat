{
 "cells": [
  {
   "cell_type": "code",
   "execution_count": 2,
   "metadata": {
    "collapsed": false
   },
   "outputs": [
    {
     "name": "stdout",
     "output_type": "stream",
     "text": [
      "Enter a string:ven\n",
      "Enter a substring:ve\n",
      "False\n"
     ]
    }
   ],
   "source": [
    "#25. findout third occurance of given substring\n",
    "string=raw_input(\"Enter a string:\")\n",
    "substring=raw_input(\"Enter a substring:\")\n",
    "def occurance(string,substring,a):\n",
    "    index = 0 \n",
    "    count = 0\n",
    "    while index <= len(string):\n",
    "        try:\n",
    "            if string[index:index + len(substring)] == substring:\n",
    "                count += 1\n",
    "            if count == a:\n",
    "                   return index\n",
    "                   break\n",
    "            index += 1\n",
    "        except IndexError:\n",
    "            return False\n",
    "            break\n",
    "    return False\n",
    "print occurance(string,substring,3)\n"
   ]
  }
 ],
 "metadata": {
  "kernelspec": {
   "display_name": "Python 2",
   "language": "python",
   "name": "python2"
  },
  "language_info": {
   "codemirror_mode": {
    "name": "ipython",
    "version": 2
   },
   "file_extension": ".py",
   "mimetype": "text/x-python",
   "name": "python",
   "nbconvert_exporter": "python",
   "pygments_lexer": "ipython2",
   "version": "2.7.13"
  }
 },
 "nbformat": 4,
 "nbformat_minor": 2
}
