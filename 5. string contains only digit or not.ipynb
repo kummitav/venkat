{
 "cells": [
  {
   "cell_type": "code",
   "execution_count": 9,
   "metadata": {
    "collapsed": false
   },
   "outputs": [
    {
     "name": "stdout",
     "output_type": "stream",
     "text": [
      "Enter the string..: 12venkat\n",
      "string contains digit\n"
     ]
    }
   ],
   "source": [
    "# String contains only digit or not using for loop\n",
    "string= raw_input(\"Enter the string..: \")\n",
    "for val in string:\n",
    "    if val.isdigit():\n",
    "        print (\"string contains digit\")\n",
    "    else:\n",
    "        print (\"No digits found\")\n",
    "    break\n",
    "    \n"
   ]
  },
  {
   "cell_type": "code",
   "execution_count": 11,
   "metadata": {
    "collapsed": false
   },
   "outputs": [
    {
     "name": "stdout",
     "output_type": "stream",
     "text": [
      "Enter the string..: 224543252452345\n",
      "string contains only digit\n"
     ]
    }
   ],
   "source": [
    "#String contains only digit or not using if..else conditional statements\n",
    "string= raw_input(\"Enter the string..: \")\n",
    "if string.isdigit():\n",
    "    print (\"string contains only digit\")\n",
    "else:\n",
    "    print (\"string does not contain only digit\")"
   ]
  }
 ],
 "metadata": {
  "kernelspec": {
   "display_name": "Python 2",
   "language": "python",
   "name": "python2"
  },
  "language_info": {
   "codemirror_mode": {
    "name": "ipython",
    "version": 2
   },
   "file_extension": ".py",
   "mimetype": "text/x-python",
   "name": "python",
   "nbconvert_exporter": "python",
   "pygments_lexer": "ipython2",
   "version": "2.7.13"
  }
 },
 "nbformat": 4,
 "nbformat_minor": 2
}
