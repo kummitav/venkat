{
 "cells": [
  {
   "cell_type": "code",
   "execution_count": 2,
   "metadata": {
    "collapsed": false
   },
   "outputs": [
    {
     "name": "stdout",
     "output_type": "stream",
     "text": [
      "enter a string..: asdlfkjadsfkjasdfjaldfja;df\n",
      "enter a substr.: 124\n",
      "substring is not in string\n"
     ]
    }
   ],
   "source": [
    "string = raw_input(\"enter a string..: \")\n",
    "substr = raw_input(\"enter a substr.: \")\n",
    "if substr.lower() in string.lower():\n",
    "    print (\"substring is in string\")\n",
    "else:\n",
    "    print (\"substring is not in string\")"
   ]
  }
 ],
 "metadata": {
  "kernelspec": {
   "display_name": "Python 2",
   "language": "python",
   "name": "python2"
  },
  "language_info": {
   "codemirror_mode": {
    "name": "ipython",
    "version": 2
   },
   "file_extension": ".py",
   "mimetype": "text/x-python",
   "name": "python",
   "nbconvert_exporter": "python",
   "pygments_lexer": "ipython2",
   "version": "2.7.13"
  }
 },
 "nbformat": 4,
 "nbformat_minor": 2
}
