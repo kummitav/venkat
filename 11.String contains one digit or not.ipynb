{
 "cells": [
  {
   "cell_type": "code",
   "execution_count": 14,
   "metadata": {
    "collapsed": false,
    "scrolled": true
   },
   "outputs": [
    {
     "name": "stdout",
     "output_type": "stream",
     "text": [
      "Enter a value....:w3\n",
      "str1 does not contain one digit\n"
     ]
    }
   ],
   "source": [
    "str1 = raw_input(\"Enter a value....:\" )\n",
    "for i in str1:\n",
    "    if i \n",
    "        print \"str1 contains one digit\"\n",
    "    else:\n",
    "        print \"str1 does not contain one digit\"\n",
    "    break\n",
    "        "
   ]
  }
 ],
 "metadata": {
  "kernelspec": {
   "display_name": "Python 2",
   "language": "python",
   "name": "python2"
  },
  "language_info": {
   "codemirror_mode": {
    "name": "ipython",
    "version": 2
   },
   "file_extension": ".py",
   "mimetype": "text/x-python",
   "name": "python",
   "nbconvert_exporter": "python",
   "pygments_lexer": "ipython2",
   "version": "2.7.13"
  }
 },
 "nbformat": 4,
 "nbformat_minor": 2
}
