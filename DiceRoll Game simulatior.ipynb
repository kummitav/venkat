{
 "cells": [
  {
   "cell_type": "code",
   "execution_count": null,
   "metadata": {
    "collapsed": true
   },
   "outputs": [],
   "source": [
    "import random\n",
    "min=1\n",
    "max=6\n",
    "roll_again = \"yes\"\n",
    "print \"Welcome to dices rolling game\"\n",
    "roll_again1 = raw_input(\"Type the 'c' to start the game.....:\")\n",
    "while True:\n",
    "    if roll_again1 == \"c\":\n",
    "        print \"Game is starting....\"\n",
    "    else:\n",
    "        print \"Enter the correct value\"\n",
    "        break\n",
    "    while True:\n",
    "        if roll_again == \"yes\" or roll_again == \"y\":\n",
    "            print \"The values are....\"\n",
    "            a= random.randint(min,max)\n",
    "            b= random.randint(min,max)\n",
    "            print a,b\n",
    "            total= a+b\n",
    "            print \"Total value is:\",total\n",
    "            result1 = [total]\n",
    "            text = open(\"diceroll.txt\", \"w\")\n",
    "            result = text.writelines(str(result1))\n",
    "            text.close()\n",
    "            roll_again = raw_input(\"Roll the dices again(yes/no)? \").lower()\n",
    "        elif roll_again == \"NO\".lower():\n",
    "            print \"The GAME is END\"\n",
    "            break\n",
    "        else:\n",
    "            print \"Enter valid input\"\n",
    "            break\n",
    "    break\n"
   ]
  },
  {
   "cell_type": "code",
   "execution_count": null,
   "metadata": {
    "collapsed": true
   },
   "outputs": [],
   "source": []
  }
 ],
 "metadata": {
  "kernelspec": {
   "display_name": "Python 2",
   "language": "python",
   "name": "python2"
  },
  "language_info": {
   "codemirror_mode": {
    "name": "ipython",
    "version": 2
   },
   "file_extension": ".py",
   "mimetype": "text/x-python",
   "name": "python",
   "nbconvert_exporter": "python",
   "pygments_lexer": "ipython2",
   "version": "2.7.13"
  }
 },
 "nbformat": 4,
 "nbformat_minor": 2
}
