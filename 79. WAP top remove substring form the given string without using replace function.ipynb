{
 "cells": [
  {
   "cell_type": "code",
   "execution_count": 3,
   "metadata": {
    "collapsed": false
   },
   "outputs": [
    {
     "name": "stdout",
     "output_type": "stream",
     "text": [
      "Enter a string:Venkat\n",
      "Enter substring:reddy\n",
      "Enter replace string:kummita\n",
      "Venkat\n"
     ]
    }
   ],
   "source": [
    "#79. WAP top remove substring form the given string without using replace function\n",
    "a=raw_input(\"Enter a string:\")\n",
    "b=raw_input(\"Enter substring:\")\n",
    "c=raw_input(\"Enter replace string:\")\n",
    "d = ''\n",
    "for i in a:\n",
    "    #print i\n",
    "    if i!=b:              \n",
    "        d+=i\n",
    "    else:\n",
    "        d+=c\n",
    "\n",
    "print d\n"
   ]
  }
 ],
 "metadata": {
  "kernelspec": {
   "display_name": "Python 2",
   "language": "python",
   "name": "python2"
  },
  "language_info": {
   "codemirror_mode": {
    "name": "ipython",
    "version": 2
   },
   "file_extension": ".py",
   "mimetype": "text/x-python",
   "name": "python",
   "nbconvert_exporter": "python",
   "pygments_lexer": "ipython2",
   "version": "2.7.13"
  }
 },
 "nbformat": 4,
 "nbformat_minor": 2
}
