{
 "cells": [
  {
   "cell_type": "code",
   "execution_count": 17,
   "metadata": {
    "collapsed": false
   },
   "outputs": [
    {
     "name": "stdout",
     "output_type": "stream",
     "text": [
      "Enter a number...: 0\n",
      "(0, 'is a Zero')\n"
     ]
    }
   ],
   "source": [
    "# Given number is a positive or not\n",
    "\n",
    "num = int(input(\"Enter a number...: \"))\n",
    "if num > 0:\n",
    "    print (num, \"is a positive number\")\n",
    "elif num == 0:\n",
    "    print (num, \"is a Zero\")\n",
    "else:\n",
    "    print (num, \"is a negative number\")\n",
    "    \n",
    "    "
   ]
  },
  {
   "cell_type": "code",
   "execution_count": 2,
   "metadata": {
    "collapsed": false
   },
   "outputs": [
    {
     "name": "stdout",
     "output_type": "stream",
     "text": [
      "enter a value..: 34\n",
      "(34, 'is not a prime number')\n",
      "(2, 'times', 17, 'is', 34)\n"
     ]
    }
   ],
   "source": [
    "num = input(\"enter a value..: \")\n",
    "if num > 1:\n",
    "   for i in range(2,num):\n",
    "       if (num % i) == 0:\n",
    "           print(num,\"is not a prime number\")\n",
    "           print(i,\"times\",num//i,\"is\",num)\n",
    "           break\n",
    "   else:\n",
    "       print (num,\"is a prime number\")\n",
    "else:\n",
    "   print (num,\"is not a prime number\")\n",
    "    \n"
   ]
  }
 ],
 "metadata": {
  "kernelspec": {
   "display_name": "Python 2",
   "language": "python",
   "name": "python2"
  },
  "language_info": {
   "codemirror_mode": {
    "name": "ipython",
    "version": 2
   },
   "file_extension": ".py",
   "mimetype": "text/x-python",
   "name": "python",
   "nbconvert_exporter": "python",
   "pygments_lexer": "ipython2",
   "version": "2.7.13"
  }
 },
 "nbformat": 4,
 "nbformat_minor": 2
}
