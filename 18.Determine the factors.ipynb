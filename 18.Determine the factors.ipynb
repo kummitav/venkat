{
 "cells": [
  {
   "cell_type": "code",
   "execution_count": 1,
   "metadata": {
    "collapsed": false
   },
   "outputs": [
    {
     "name": "stdout",
     "output_type": "stream",
     "text": [
      "Enter a vlaue....: 345\n",
      "('The factors of', 345, 'are:')\n",
      "1\n",
      "3\n",
      "5\n",
      "15\n",
      "23\n",
      "69\n",
      "115\n",
      "345\n"
     ]
    }
   ],
   "source": [
    "y = input(\"Enter a vlaue....: \")\n",
    "def print_factors(x):\n",
    "   # This function takes a number and prints the factors\n",
    "\n",
    "   print(\"The factors of\",x,\"are:\")\n",
    "   for i in range(1, x + 1):\n",
    "       if x % i == 0:\n",
    "           print(i)\n",
    "print_factors(y)"
   ]
  }
 ],
 "metadata": {
  "kernelspec": {
   "display_name": "Python 2",
   "language": "python",
   "name": "python2"
  },
  "language_info": {
   "codemirror_mode": {
    "name": "ipython",
    "version": 2
   },
   "file_extension": ".py",
   "mimetype": "text/x-python",
   "name": "python",
   "nbconvert_exporter": "python",
   "pygments_lexer": "ipython2",
   "version": "2.7.13"
  }
 },
 "nbformat": 4,
 "nbformat_minor": 2
}
