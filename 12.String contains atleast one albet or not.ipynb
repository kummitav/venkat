{
 "cells": [
  {
   "cell_type": "code",
   "execution_count": 4,
   "metadata": {
    "collapsed": false
   },
   "outputs": [
    {
     "name": "stdout",
     "output_type": "stream",
     "text": [
      "Enter a value..: fajslfdjaf\n",
      "str1 contains a alpha\n"
     ]
    }
   ],
   "source": [
    "# A string contains one alpha or not\n",
    "str1 = raw_input(\"Enter a value..: \")\n",
    "flag=False\n",
    "for i in str1:\n",
    "    if i.isalpha():\n",
    "        flag=True\n",
    "        #break\n",
    "if flag:\n",
    "    print \"str1 contains a alpha\"\n",
    "else:\n",
    "    print \"str1 does not contain a alpha\""
   ]
  },
  {
   "cell_type": "code",
   "execution_count": null,
   "metadata": {
    "collapsed": true
   },
   "outputs": [],
   "source": []
  }
 ],
 "metadata": {
  "kernelspec": {
   "display_name": "Python 2",
   "language": "python",
   "name": "python2"
  },
  "language_info": {
   "codemirror_mode": {
    "name": "ipython",
    "version": 2
   },
   "file_extension": ".py",
   "mimetype": "text/x-python",
   "name": "python",
   "nbconvert_exporter": "python",
   "pygments_lexer": "ipython2",
   "version": "2.7.13"
  }
 },
 "nbformat": 4,
 "nbformat_minor": 2
}
