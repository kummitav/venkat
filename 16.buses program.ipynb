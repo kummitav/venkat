{
 "cells": [
  {
   "cell_type": "code",
   "execution_count": 1,
   "metadata": {
    "collapsed": false
   },
   "outputs": [
    {
     "name": "stdout",
     "output_type": "stream",
     "text": [
      "Enter number of people..: 100\n",
      "Enter numbr of buses..: 2\n",
      "Enter number of seats..:30\n",
      "2 busses are required\n"
     ]
    }
   ],
   "source": [
    "import math\n",
    "num_people= input(\"Enter number of people..: \")\n",
    "num_bus = input(\"Enter numbr of buses..: \")\n",
    "num_seats = input(\"Enter number of seats..:\")\n",
    "total_seats = float(num_bus*num_seats)\n",
    "rem_people = float(num_people-total_seats)\n",
    "req_buses = math.ceil(rem_people/num_seats)\n",
    "if req_buses == 0:\n",
    "    print \"buses are sufficient\"\n",
    "elif req_buses > 0:\n",
    "    print int(req_buses), \"busses are required\"\n",
    "else:\n",
    "    print \"buses are more than requirement\"\n"
   ]
  },
  {
   "cell_type": "code",
   "execution_count": null,
   "metadata": {
    "collapsed": true
   },
   "outputs": [],
   "source": []
  }
 ],
 "metadata": {
  "kernelspec": {
   "display_name": "Python 2",
   "language": "python",
   "name": "python2"
  },
  "language_info": {
   "codemirror_mode": {
    "name": "ipython",
    "version": 2
   },
   "file_extension": ".py",
   "mimetype": "text/x-python",
   "name": "python",
   "nbconvert_exporter": "python",
   "pygments_lexer": "ipython2",
   "version": "2.7.13"
  }
 },
 "nbformat": 4,
 "nbformat_minor": 2
}
