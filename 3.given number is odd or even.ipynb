{
 "cells": [
  {
   "cell_type": "code",
   "execution_count": 3,
   "metadata": {
    "collapsed": false
   },
   "outputs": [
    {
     "name": "stdout",
     "output_type": "stream",
     "text": [
      "Enter the value: 20\n",
      "20 is Even\n"
     ]
    }
   ],
   "source": [
    "a=int(raw_input(\"Enter the value: \"))\n",
    "if (a%2) == 0:\n",
    "    print(\"{0} is Even\".format(a))\n",
    "else :\n",
    "    print(\"{0} is add\".format(a))\n",
    "    "
   ]
  },
  {
   "cell_type": "code",
   "execution_count": 2,
   "metadata": {
    "collapsed": false
   },
   "outputs": [
    {
     "name": "stdout",
     "output_type": "stream",
     "text": [
      "Enter the value: 20\n",
      "{0} is Even.format(a)\n"
     ]
    }
   ],
   "source": [
    "a=int(raw_input(\"Enter the value: \"))\n",
    "if (a%2) == 0:\n",
    "    print\"{0} is Even.format(a)\"\n",
    "else :\n",
    "    print\"{0} is add.format(a)\""
   ]
  },
  {
   "cell_type": "code",
   "execution_count": 4,
   "metadata": {
    "collapsed": false
   },
   "outputs": [
    {
     "name": "stdout",
     "output_type": "stream",
     "text": [
      "Enter the value: 11\n",
      "11 is add\n"
     ]
    }
   ],
   "source": [
    "a=int(raw_input(\"Enter the value: \"))\n",
    "if (a%2) == 0:\n",
    "    print(\"{0} is Even\".format(a))\n",
    "else :\n",
    "    print(\"{0} is Odd\".format(a))"
   ]
  },
  {
   "cell_type": "code",
   "execution_count": 5,
   "metadata": {
    "collapsed": false
   },
   "outputs": [
    {
     "name": "stdout",
     "output_type": "stream",
     "text": [
      "Enter the value: 23\n",
      "23 is Odd\n"
     ]
    }
   ],
   "source": [
    "a=int(raw_input(\"Enter the value: \"))\n",
    "if (a%2) == 0:\n",
    "    print(\"{0} is Even\".format(a))\n",
    "else :\n",
    "    print(\"{0} is Odd\".format(a))"
   ]
  },
  {
   "cell_type": "code",
   "execution_count": null,
   "metadata": {
    "collapsed": true
   },
   "outputs": [],
   "source": []
  },
  {
   "cell_type": "code",
   "execution_count": null,
   "metadata": {
    "collapsed": true
   },
   "outputs": [],
   "source": []
  },
  {
   "cell_type": "code",
   "execution_count": null,
   "metadata": {
    "collapsed": true
   },
   "outputs": [],
   "source": []
  }
 ],
 "metadata": {
  "kernelspec": {
   "display_name": "Python 2",
   "language": "python",
   "name": "python2"
  },
  "language_info": {
   "codemirror_mode": {
    "name": "ipython",
    "version": 2
   },
   "file_extension": ".py",
   "mimetype": "text/x-python",
   "name": "python",
   "nbconvert_exporter": "python",
   "pygments_lexer": "ipython2",
   "version": "2.7.13"
  }
 },
 "nbformat": 4,
 "nbformat_minor": 2
}
